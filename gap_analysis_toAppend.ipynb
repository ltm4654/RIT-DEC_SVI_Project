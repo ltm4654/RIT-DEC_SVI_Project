{
 "cells": [
  {
   "cell_type": "code",
   "execution_count": 4,
   "metadata": {},
   "outputs": [],
   "source": [
    "import arcpy\n",
    "arcpy.env.workspace = r'C:\\Users\\ltmsbi\\Documents\\ArcGIS\\Projects\\Final_Deployment\\Final_Deployment.gdb'"
   ]
  },
  {
   "cell_type": "code",
   "execution_count": 5,
   "metadata": {},
   "outputs": [
    {
     "name": "stdout",
     "output_type": "stream",
     "text": [
      "['SVI_Project_presences_phragmites_precision', 'SVI_Project_presences_knotweed_precision', 'SVI_Project_presences_wp_precision', 'SVI_Project_presences_toh_precision', 'SVI_Project_presences_pl_precision', 'PRESENCE_POINT_phragmites', 'PRESENCE_LINE_phragmites', 'PRESENCE_POLYGON_phragmites', 'PRESENCE_POINT_knotweed', 'PRESENCE_LINE_knotweed', 'PRESENCE_POLYGON_knotweed', 'PRESENCE_POINT_wp', 'PRESENCE_LINE_wp', 'PRESENCE_POLYGON_wp', 'PRESENCE_POINT_toh', 'PRESENCE_LINE_toh', 'PRESENCE_POLYGON_toh', 'PRESENCE_POINT_pl', 'PRESENCE_LINE_pl', 'PRESENCE_POLYGON_pl']\n"
     ]
    }
   ],
   "source": [
    "# Spatial join repeatedly\n",
    "\n",
    "\n",
    "# Define list of names denoting species in presence set\n",
    "species_names = [\"phragmites\", \"knotweed\", \"wp\", \"toh\", \"pl\"]\n",
    "# Define the threshold used to determine presences\n",
    "threshold = 'precision'\n",
    "\n",
    "# Define list of geometries in the iMap data\n",
    "imap_geometries = [\"POINT\", \"LINE\", \"POLYGON\"]\n",
    "\n",
    "\n",
    "# Create list of n + n*3 files to process, where n is the number of species\n",
    "presences = [] # empty list to append items onto\n",
    "\n",
    "for n in range(0,len(species_names)):\n",
    "    # Add n items for model data \n",
    "    presences.append('SVI_Project_presences_'+species_names[n]+\"_\"+threshold)\n",
    "    # Add n*3 items for iMap data (accounts for 3 geometry types)\n",
    "    \n",
    "for n in range(0,len(species_names)):\n",
    "    for k in range(0,len(imap_geometries)):\n",
    "        presences.append('PRESENCE_'+imap_geometries[k]+\"_\"+species_names[n])\n",
    "\n",
    "print(presences)        \n",
    "# Effectively, for iMap and model data, each species, and geometry type (if iMap data):\n",
    "    # Join number of points to the reporting grid created in previous run"
   ]
  },
  {
   "cell_type": "code",
   "execution_count": null,
   "metadata": {},
   "outputs": [],
   "source": []
  }
 ],
 "metadata": {
  "kernelspec": {
   "display_name": "ArcGISPro",
   "language": "Python",
   "name": "python3"
  },
  "language_info": {
   "file_extension": ".py",
   "name": "python",
   "version": "3"
  }
 },
 "nbformat": 4,
 "nbformat_minor": 2
}
