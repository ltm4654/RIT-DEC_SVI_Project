{
 "cells": [
  {
   "cell_type": "code",
   "execution_count": 4,
   "metadata": {},
   "outputs": [],
   "source": [
    "import arcpy\n",
    "arcpy.env.workspace = r'C:\\Users\\ltmsbi\\Documents\\ArcGIS\\Projects\\Final_Deployment\\Final_Deployment.gdb'"
   ]
  },
  {
   "cell_type": "code",
   "execution_count": 12,
   "metadata": {},
   "outputs": [
    {
     "name": "stdout",
     "output_type": "stream",
     "text": [
      "Number of layers to process: 50\n",
      "['ND_phrag', 'PRESENCE_POINT_phrag', 'PRESENCE_LINE_phrag', 'PRESENCE_POLYGON_phrag', 'PRESENCE_POINT_UNCONFIRMED_phrag', 'PRESENCE_LINE_UNCONFIRMED_phrag', 'PRESENCE_POLYGON_UNCONFIRMED_phrag', 'ND_knot', 'PRESENCE_POINT_knot', 'PRESENCE_LINE_knot', 'PRESENCE_POLYGON_knot', 'PRESENCE_POINT_UNCONFIRMED_knot', 'PRESENCE_LINE_UNCONFIRMED_knot', 'PRESENCE_POLYGON_UNCONFIRMED_knot', 'ND_wp', 'PRESENCE_POINT_wp', 'PRESENCE_LINE_wp', 'PRESENCE_POLYGON_wp', 'PRESENCE_POINT_UNCONFIRMED_wp', 'PRESENCE_LINE_UNCONFIRMED_wp', 'PRESENCE_POLYGON_UNCONFIRMED_wp', 'ND_toh', 'PRESENCE_POINT_toh', 'PRESENCE_LINE_toh', 'PRESENCE_POLYGON_toh', 'PRESENCE_POINT_UNCONFIRMED_toh', 'PRESENCE_LINE_UNCONFIRMED_toh', 'PRESENCE_POLYGON_UNCONFIRMED_toh', 'ND_pl', 'PRESENCE_POINT_pl', 'PRESENCE_LINE_pl', 'PRESENCE_POLYGON_pl', 'PRESENCE_POINT_UNCONFIRMED_pl', 'PRESENCE_LINE_UNCONFIRMED_pl', 'PRESENCE_POLYGON_UNCONFIRMED_pl']\n"
     ]
    }
   ],
   "source": [
    "# Create layers per-species and geometry then add names to list for spatial joining\n",
    "\n",
    "\n",
    "# Create list of n + n*3 files to process, where n is the number of species\n",
    "ps_records = [] # empty list to append items onto\n",
    "\n",
    "# Create dictionary of long names\n",
    "# Values are not used in this code and are only present for human readability\n",
    "species_fullnames = {\n",
    "    \"phrag\": \"Phragmites, Unspecified\",\n",
    "    \"knot\": \"Knotweed, Unspecified\",\n",
    "    \"wp\": \"Wild Parsnip\",\n",
    "    \"toh\": \"Tree-of-Heaven (Ailanthus)\",\n",
    "    \"pl\": \"Purple Loosestrife\"\n",
    "}\n",
    "\n",
    "# Extract only the keys to a list\n",
    "species_shortnames = list(species_fullnames.keys())\n",
    "\n",
    "\n",
    "# Add model data layer names to processing list ----------\n",
    "\n",
    "\n",
    "# Define the threshold used to determine presences\n",
    "threshold = 'precision'\n",
    "\n",
    "# Add names to list\n",
    "for n in range(0,len(species_shortnames)):\n",
    "    # Add n items for model data \n",
    "    ps_records.append('SVI_Project_presences_'+species_shortnames[n]+\"_\"+threshold)\n",
    "\n",
    "    \n",
    "# ----------\n",
    "    \n",
    "# Separate out iMap records by species and geometry ----------\n",
    "\n",
    "\n",
    "# IDs that iMap assigns to the various species of interest\n",
    "# Used for building queries to select by attribute\n",
    "jurisdiction_ids = {\n",
    "    \"phrag\": 1277,\n",
    "    \"wp\": 1182,\n",
    "    \"pl\": 1265,\n",
    "    \"toh\": 1167,\n",
    "    \"knot\": (1074, 1191, 1278, 1479) # Includes Japanese knotweed, giant knotweed, bohemian knotweed, and knotweed species unknown\n",
    "}\n",
    "\n",
    "# Define list of geometries in the iMap data\n",
    "imap_geometries = [\"POINT\", \"LINE\", \"POLYGON\"]\n",
    "\n",
    "# Define imap records types\n",
    "imap_record_types = [\"\", \"_UNCONFIRMED\"] # The \"suffix\" for confirmed records is blank\n",
    "\n",
    "# Add n*2*3 items for iMap data (accounts for 2 record and 3 geometry types) \n",
    "for n in range(0,len(species_shortnames)):\n",
    "    # Set up per-species query for selecting by attribute\n",
    "    if species_shortnames[n] is \"knot\":\n",
    "        # Set initial SQL query\n",
    "        idClause = \"jurisdiction_species_id = \"+str(jurisdiction_ids[\"knot\"][0])\n",
    "        # Add more conditions to query\n",
    "        for ID in jurisdiction_ids[\"knot\"][1:]:\n",
    "            idClause = idClause + \" Or jurisdiction_species_id = \" + str(ID)\n",
    "    else:\n",
    "        idClause = \"jurisdiction_species_id = \"+str(jurisdiction_ids[species_shortnames[n]]) \n",
    "    \n",
    "    # Copy a per-species subset of not detected polygons\n",
    "    sel = arcpy.management.SelectLayerByAttribute(\"NOT_DETECTED_POLYGON\", \"NEW_SELECTION\", idClause)\n",
    "    imap_nd = \"ND_\"+species_shortnames[n]\n",
    "    arcpy.management.CopyFeatures(sel, imap_nd)\n",
    "    ps_records.append(imap_nd)\n",
    "    # Remove variables and selections to save memory\n",
    "    del sel, imap_nd\n",
    "    arcpy.management.SelectLayerByAttribute(\"NOT_DETECTED_POLYGON\", \"CLEAR_SELECTION\")\n",
    "    \n",
    "    # Copy a per-species subset for each record and geometry type\n",
    "    for rt in range(0,len(imap_record_types)):\n",
    "        for k in range(0,len(imap_geometries)):\n",
    "            sel = arcpy.management.SelectLayerByAttribute(\"PRESENCE_\"+imap_geometries[k]+imap_record_types[rt], \"NEW_SELECTION\", idClause)\n",
    "            imap_presence = 'PRESENCE_'+imap_geometries[k]+imap_record_types[rt]+\"_\"+species_shortnames[n]\n",
    "            arcpy.management.CopyFeatures(sel, imap_presence)\n",
    "            ps_records.append(imap_presence)\n",
    "            # Remove variables and selections to save memory\n",
    "            del sel, imap_presence\n",
    "            arcpy.management.SelectLayerByAttribute(\"PRESENCE_\"+imap_geometries[k], \"CLEAR_SELECTION\")\n",
    "        \n",
    "        \n",
    "# ----------\n",
    "\n",
    "print(\"Number of layers to process: \"+str(len(presences)))\n",
    "print(ps_records)"
   ]
  },
  {
   "cell_type": "code",
   "execution_count": null,
   "metadata": {},
   "outputs": [],
   "source": [
    "# Spatial join repeatedly\n",
    "\n",
    "# Effectively, for iMap and model data, each species, and geometry/record type (if iMap data):\n",
    "    # Join number of points to the reporting grid created in previous run\n",
    "    \n",
    "    \n",
    "    # Calculate model \"not detected\" as all model points joined - model species presence"
   ]
  },
  {
   "cell_type": "code",
   "execution_count": null,
   "metadata": {},
   "outputs": [],
   "source": [
    "# Build the analysis-ready version (1 layer with numbers for all species)\n",
    "\n",
    "# Build the viewing-ready version (n per-species layers combined into one)\n",
    "\n",
    "# For each species:\n",
    "    # Select records with non-null values for that species\n",
    "    # Add & calculate common name, jurisdiction id, and op criteria fields\n",
    "# Merge layers into one for upload into AGOL"
   ]
  }
 ],
 "metadata": {
  "kernelspec": {
   "display_name": "ArcGISPro",
   "language": "Python",
   "name": "python3"
  },
  "language_info": {
   "file_extension": ".py",
   "name": "python",
   "version": "3"
  }
 },
 "nbformat": 4,
 "nbformat_minor": 2
}
