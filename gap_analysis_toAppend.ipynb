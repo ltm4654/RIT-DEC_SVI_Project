{
 "cells": [
  {
   "cell_type": "code",
   "execution_count": 1,
   "metadata": {},
   "outputs": [],
   "source": [
    "import arcpy\n",
    "arcpy.env.workspace = r'C:\\Users\\ltmsbi\\Documents\\ArcGIS\\Projects\\Final_Deployment\\Final_Deployment.gdb'"
   ]
  },
  {
   "cell_type": "code",
   "execution_count": 4,
   "metadata": {},
   "outputs": [
    {
     "name": "stdout",
     "output_type": "stream",
     "text": [
      "Number of layers to process: 40\n",
      "['SVI_Project_presences_phrag_precision', 'SVI_Project_presences_knot_precision', 'SVI_Project_presences_wp_precision', 'SVI_Project_presences_toh_precision', 'SVI_Project_presences_pl_precision', 'iMap_nd_phrag', 'iMap_point_cnfrm_phrag', 'iMap_line_cnfrm_phrag', 'iMap_polygon_cnfrm_phrag', 'iMap_point_uncnfrm_phrag', 'iMap_line_uncnfrm_phrag', 'iMap_polygon_uncnfrm_phrag', 'iMap_nd_knot', 'iMap_point_cnfrm_knot', 'iMap_line_cnfrm_knot', 'iMap_polygon_cnfrm_knot', 'iMap_point_uncnfrm_knot', 'iMap_line_uncnfrm_knot', 'iMap_polygon_uncnfrm_knot', 'iMap_nd_wp', 'iMap_point_cnfrm_wp', 'iMap_line_cnfrm_wp', 'iMap_polygon_cnfrm_wp', 'iMap_point_uncnfrm_wp', 'iMap_line_uncnfrm_wp', 'iMap_polygon_uncnfrm_wp', 'iMap_nd_toh', 'iMap_point_cnfrm_toh', 'iMap_line_cnfrm_toh', 'iMap_polygon_cnfrm_toh', 'iMap_point_uncnfrm_toh', 'iMap_line_uncnfrm_toh', 'iMap_polygon_uncnfrm_toh', 'iMap_nd_pl', 'iMap_point_cnfrm_pl', 'iMap_line_cnfrm_pl', 'iMap_polygon_cnfrm_pl', 'iMap_point_uncnfrm_pl', 'iMap_line_uncnfrm_pl', 'iMap_polygon_uncnfrm_pl']\n"
     ]
    }
   ],
   "source": [
    "# Create layers per-species and geometry then add names to list for spatial joining\n",
    "\n",
    "\n",
    "# Create list of n + n*3 files to process, where n is the number of species\n",
    "ps_records = [] # empty list to append items onto\n",
    "\n",
    "# Create dictionary of long names\n",
    "# Values are not used in this code and are only present for human readability\n",
    "species_fullnames = {\n",
    "    \"phrag\": \"Phragmites, Unspecified\",\n",
    "    \"knot\": \"Knotweed, Unspecified\",\n",
    "    \"wp\": \"Wild Parsnip\",\n",
    "    \"toh\": \"Tree-of-Heaven (Ailanthus)\",\n",
    "    \"pl\": \"Purple Loosestrife\"\n",
    "}\n",
    "\n",
    "# Extract only the keys to a list\n",
    "species_shortnames = list(species_fullnames.keys())\n",
    "\n",
    "\n",
    "# Add model data layer names to processing list ----------\n",
    "\n",
    "\n",
    "# Define the threshold used to determine presences\n",
    "threshold = 'precision'\n",
    "\n",
    "# Add names to list\n",
    "for n in range(0,len(species_shortnames)):\n",
    "    # Add n items for model data \n",
    "    ps_records.append('SVI_Project_presences_'+species_shortnames[n]+\"_\"+threshold)\n",
    "\n",
    "    \n",
    "# ----------\n",
    "    \n",
    "# Separate out iMap records by species and geometry ----------\n",
    "\n",
    "\n",
    "# IDs that iMap assigns to the various species of interest\n",
    "# Used for building queries to select by attribute\n",
    "jurisdiction_ids = {\n",
    "    \"phrag\": 1277,\n",
    "    \"wp\": 1182,\n",
    "    \"pl\": 1265,\n",
    "    \"toh\": 1167,\n",
    "    \"knot\": (1074, 1191, 1278, 1479) # Includes Japanese knotweed, giant knotweed, bohemian knotweed, and knotweed species unknown\n",
    "}\n",
    "\n",
    "# Define list of geometries in the iMap data\n",
    "imap_geometries = [\"POINT\", \"LINE\", \"POLYGON\"]\n",
    "\n",
    "# Define imap records types\n",
    "imap_record_types = {\n",
    "    \"cnfrm\": \"\", # The \"suffix\" for confirmed records is blank\n",
    "    \"uncnfrm\": \"_UNCONFIRMED\"\n",
    "}\n",
    "\n",
    "# Add n*2*3 + n items for iMap data (accounts for 2 record and 3 geometry types, \n",
    "# plus not-detected records) \n",
    "for n in range(0,len(species_shortnames)):\n",
    "    # Set up per-species query for selecting by attribute\n",
    "    if species_shortnames[n] is \"knot\":\n",
    "        # Set initial SQL query\n",
    "        idClause = \"jurisdiction_species_id = \"+str(jurisdiction_ids[\"knot\"][0])\n",
    "        # Add more conditions to query\n",
    "        for ID in jurisdiction_ids[\"knot\"][1:]:\n",
    "            idClause = idClause + \" Or jurisdiction_species_id = \" + str(ID)\n",
    "    else:\n",
    "        idClause = \"jurisdiction_species_id = \"+str(jurisdiction_ids[species_shortnames[n]]) \n",
    "    \n",
    "    # Copy a per-species subset of not detected polygons\n",
    "    sel = arcpy.management.SelectLayerByAttribute(\"NOT_DETECTED_POLYGON\", \"NEW_SELECTION\", idClause)\n",
    "    imap_nd = \"iMap_nd_\"+species_shortnames[n]\n",
    "    arcpy.management.CopyFeatures(sel, imap_nd)\n",
    "    ps_records.append(imap_nd)\n",
    "    # Remove variables and selections to save memory\n",
    "    del sel, imap_nd\n",
    "    arcpy.management.SelectLayerByAttribute(\"NOT_DETECTED_POLYGON\", \"CLEAR_SELECTION\")\n",
    "    \n",
    "    # Copy a per-species subset for each record and geometry type\n",
    "    for rt in range(0,len(imap_record_types)):\n",
    "        for g in range(0,len(imap_geometries)):\n",
    "            sel = arcpy.management.SelectLayerByAttribute(\"PRESENCE_\"+imap_geometries[g]+list(imap_record_types.values())[rt], \"NEW_SELECTION\", idClause)\n",
    "            imap_subset = \"iMap_\"+imap_geometries[g].lower()+\"_\"+list(imap_record_types.keys())[rt]+\"_\"+species_shortnames[n]\n",
    "            arcpy.management.CopyFeatures(sel, imap_subset)\n",
    "            ps_records.append(imap_subset)\n",
    "            # Remove variables and selections to save memory\n",
    "            del sel, imap_subset\n",
    "            arcpy.management.SelectLayerByAttribute(\"PRESENCE_\"+imap_geometries[g], \"CLEAR_SELECTION\")\n",
    "        \n",
    "        \n",
    "# ----------\n",
    "\n",
    "print(\"Number of layers to process: \"+str(len(ps_records)))\n",
    "print(ps_records)"
   ]
  },
  {
   "cell_type": "code",
   "execution_count": 5,
   "metadata": {},
   "outputs": [
    {
     "name": "stdout",
     "output_type": "stream",
     "text": [
      "2\n"
     ]
    }
   ],
   "source": [
    "# Spatial join repeatedly\n",
    "\n",
    "# Effectively, for iMap and model data, each species, and geometry/record type (if iMap data):\n",
    "    # Join number of points to the reporting grid created in previous run\n",
    "    \n",
    "    \n",
    "    # Calculate model \"not detected\" as all model points joined - model species presence"
   ]
  },
  {
   "cell_type": "code",
   "execution_count": null,
   "metadata": {},
   "outputs": [],
   "source": [
    "# Build the analysis-ready version (1 layer with numbers for all species)\n",
    "\n",
    "# Build the viewing-ready version (n per-species layers combined into one)\n",
    "\n",
    "# For each species:\n",
    "    # Select records with non-null values for that species\n",
    "    # Add & calculate common name, jurisdiction id, and op criteria fields\n",
    "# Merge layers into one for upload into AGOL"
   ]
  }
 ],
 "metadata": {
  "kernelspec": {
   "display_name": "ArcGISPro",
   "language": "Python",
   "name": "python3"
  },
  "language_info": {
   "file_extension": ".py",
   "name": "python",
   "version": "3"
  }
 },
 "nbformat": 4,
 "nbformat_minor": 2
}
